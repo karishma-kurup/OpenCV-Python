{
 "cells": [
  {
   "cell_type": "code",
   "execution_count": 2,
   "metadata": {},
   "outputs": [],
   "source": [
    "import cv2\n",
    "import numpy as np\n",
    "from scipy.spatial import distance as dist\n",
    "from skimage.filters import threshold_local"
   ]
  },
  {
   "cell_type": "raw",
   "metadata": {},
   "source": [
    "def order_pts(pts):\n",
    "    xsort=pts[np.argsort(pts[:,0]),:]\n",
    "    left=xsort[:2,:]\n",
    "    right=xsort[2:,:]\n",
    "    left=left[np.argsort(left[:,1]),:]\n",
    "    (tl,bl)=left\n",
    "    D=dist.cdist(tl[np.newaxis],right,\"euclidean\")[0]\n",
    "    (br,tr)=right[np.argsort(D)[::-1],:]\n",
    "    return np.array([tl,tr,br,bl],dtype=\"float32\") "
   ]
  },
  {
   "cell_type": "code",
   "execution_count": 3,
   "metadata": {},
   "outputs": [],
   "source": [
    "def order_pts(pts):\n",
    "    rect=np.zeros((4,2),dtype=\"float32\")\n",
    "    s=pts.sum(axis=1)\n",
    "    rect[0]=pts[np.argmin(s)]\n",
    "    rect[2]=pts[np.argmax(s)]\n",
    "    diff=np.diff(pts,axis=1)\n",
    "    rect[1]=pts[np.argmin(diff)]\n",
    "    rect[3]=pts[np.argmax(diff)]\n",
    "    return rect"
   ]
  },
  {
   "cell_type": "code",
   "execution_count": 4,
   "metadata": {},
   "outputs": [],
   "source": [
    "def four_point_transform(img,pts):\n",
    "    rect=order_pts(pts)\n",
    "    (tl,tr,br,bl)=rect\n",
    "    width_A=np.sqrt(((br[0]-bl[0])**2)+((br[1]-bl[1])**2))\n",
    "    width_B=np.sqrt(((tr[0]-tl[0])**2)+((tr[1]-tl[1])**2))\n",
    "    max_width=max(int(width_A),int(width_B))\n",
    "    height_A=np.sqrt(((tr[0]-br[0])**2)+((tr[1]-br[1])**2))\n",
    "    height_B=np.sqrt(((tl[0]-bl[0])**2)+((tr[1]-bl[1])**2))\n",
    "    max_height=max(int(height_A),int(height_B))\n",
    "    dst=np.array([[0,0],[max_width-1,0],[max_width-1,max_width-1],[0,max_height-1]],dtype=\"float32\")\n",
    "    M=cv2.getPerspectiveTransform(rect,dst)\n",
    "    warped=cv2.warpPerspective(img,M,(max_width,max_height))\n",
    "    return warped"
   ]
  },
  {
   "cell_type": "code",
   "execution_count": 5,
   "metadata": {},
   "outputs": [],
   "source": [
    "def img_resize(img,width=None,height=None,inter=cv2.INTER_AREA):\n",
    "    dim=None\n",
    "    (h,w)=img.shape[:2]\n",
    "    if width is None and height is None:\n",
    "        return\n",
    "    if width is None:\n",
    "        r=height/float(h)\n",
    "        dim=(int(w*r),height)\n",
    "    else:\n",
    "        r=width/float(w)\n",
    "        dim=(width,int(h*r))\n",
    "    return cv2.resize(img,dim,interpolation=inter)"
   ]
  },
  {
   "cell_type": "code",
   "execution_count": 20,
   "metadata": {},
   "outputs": [
    {
     "data": {
      "text/plain": [
       "-1"
      ]
     },
     "execution_count": 20,
     "metadata": {},
     "output_type": "execute_result"
    }
   ],
   "source": [
    "img=cv2.imread('justpaper.jpg')\n",
    "\n",
    "ratio=img.shape[0]/500.0\n",
    "orig=img.copy()\n",
    "img=img_resize(img,height=500)\n",
    "\n",
    "blur=cv2.GaussianBlur(img,(5,5),0)\n",
    "edge=cv2.Canny(blur,75,200)\n",
    "\n",
    "\n",
    "cnts,hier=cv2.findContours(edge.copy(),cv2.RETR_EXTERNAL,cv2.CHAIN_APPROX_NONE)\n",
    "cnts=sorted(cnts,key=cv2.contourArea,reverse=True)[:5]\n",
    "for c in cnts:\n",
    "    #print(c)\n",
    "    peri=cv2.arcLength(c,True)\n",
    "    approx=cv2.approxPolyDP(c,0.02*peri,True)\n",
    "    if len(approx)==4:\n",
    "        screen=approx\n",
    "        break\n",
    "cv2.drawContours(img,[screen],-1,(0,255,0),2)\n",
    "\n",
    "cv2.imshow('edge',edge)\n",
    "cv2.imshow('output_draw',img_resize(img,height=650))\n",
    "cv2.waitKey(5)"
   ]
  },
  {
   "cell_type": "code",
   "execution_count": 21,
   "metadata": {},
   "outputs": [],
   "source": [
    "cv2.destroyAllWindows()"
   ]
  },
  {
   "cell_type": "code",
   "execution_count": 22,
   "metadata": {},
   "outputs": [],
   "source": [
    "warped=four_point_transform(orig,screen.reshape(4,2)*ratio)\n",
    "warped=cv2.cvtColor(warped,cv2.COLOR_BGR2GRAY)\n",
    "thresh=threshold_local(warped,11,offset=10,method=\"gaussian\")\n",
    "warped=(warped>thresh).astype(\"uint8\")*255"
   ]
  },
  {
   "cell_type": "code",
   "execution_count": 23,
   "metadata": {},
   "outputs": [
    {
     "data": {
      "text/plain": [
       "-1"
      ]
     },
     "execution_count": 23,
     "metadata": {},
     "output_type": "execute_result"
    }
   ],
   "source": [
    "cv2.imshow('output_draw',img_resize(img,height=650))\n",
    "cv2.imshow('Out_final',img_resize(warped,height=650))\n",
    "cv2.waitKey(1)"
   ]
  },
  {
   "cell_type": "code",
   "execution_count": 24,
   "metadata": {},
   "outputs": [],
   "source": [
    "cv2.destroyAllWindows()"
   ]
  },
  {
   "cell_type": "code",
   "execution_count": null,
   "metadata": {},
   "outputs": [],
   "source": []
  }
 ],
 "metadata": {
  "kernelspec": {
   "display_name": "Python 3",
   "language": "python",
   "name": "python3"
  },
  "language_info": {
   "codemirror_mode": {
    "name": "ipython",
    "version": 3
   },
   "file_extension": ".py",
   "mimetype": "text/x-python",
   "name": "python",
   "nbconvert_exporter": "python",
   "pygments_lexer": "ipython3",
   "version": "3.8.3"
  }
 },
 "nbformat": 4,
 "nbformat_minor": 4
}
