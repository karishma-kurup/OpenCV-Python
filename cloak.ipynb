{
 "cells": [
  {
   "cell_type": "code",
   "execution_count": 1,
   "metadata": {},
   "outputs": [],
   "source": [
    "import numpy as np\n",
    "import cv2"
   ]
  },
  {
   "cell_type": "markdown",
   "metadata": {},
   "source": [
    "def calibrate (gray,alpha=0.5):\n",
    "    global bg_img\n",
    "    if bg_img is None:\n",
    "        bg_img=gray.copy().astype(np.float64)\n",
    "        return\n",
    "    cv2.accumulateWeighted(gray,bg_img,alpha)"
   ]
  },
  {
   "cell_type": "code",
   "execution_count": 5,
   "metadata": {},
   "outputs": [],
   "source": [
    "bg_img=None\n",
    "no_frame=0\n",
    "cap = cv2.VideoCapture(0)\n",
    "for i in range(20):\n",
    "    ret,bg_img=cap.read()\n",
    "while True:\n",
    "    ret,frame=cap.read()\n",
    "    #if no_frame<20:\n",
    "    #    calibrate(frame)\n",
    "    \n",
    "    HSVLOW = np.array([0,88,158])\n",
    "    HSVHIGH = np.array([179,255,255])\n",
    "    hsv=cv2.cvtColor(frame,cv2.COLOR_BGR2HSV)\n",
    "\n",
    "    kernal=np.ones((3,3))\n",
    "    mask=cv2.inRange(hsv, HSVLOW, HSVHIGH)\n",
    "    mask=cv2.morphologyEx(mask,cv2.MORPH_OPEN,kernal)\n",
    "    mask=cv2.dilate(mask,kernal,iterations=1)\n",
    "\n",
    "    mask2=cv2.bitwise_not(mask)\n",
    "\n",
    "    res1=cv2.bitwise_and(bg_img,bg_img,mask=mask)\n",
    "    res2=cv2.bitwise_and(frame,frame,mask=mask2)\n",
    "\n",
    "    final=cv2.addWeighted(res1,1,res2,1,0)\n",
    "    cv2.imshow('Final', final)\n",
    "    cv2.imshow('Camera', frame)\n",
    "\n",
    "    if cv2.waitKey(5) & 0xFF == ord('q'):\n",
    "        break\n",
    "    no_frame+=1    \n",
    "\n",
    "cap.release()\n",
    "cv2.destroyAllWindows()\n",
    "        \n",
    "        "
   ]
  },
  {
   "cell_type": "code",
   "execution_count": 4,
   "metadata": {},
   "outputs": [
    {
     "data": {
      "text/plain": [
       "dtype('uint8')"
      ]
     },
     "execution_count": 4,
     "metadata": {},
     "output_type": "execute_result"
    }
   ],
   "source": [
    "res1.dtype\n"
   ]
  },
  {
   "cell_type": "code",
   "execution_count": null,
   "metadata": {},
   "outputs": [],
   "source": [
    "res2.dtype"
   ]
  },
  {
   "cell_type": "code",
   "execution_count": null,
   "metadata": {},
   "outputs": [],
   "source": [
    "cv2.destroyAllWindows()"
   ]
  },
  {
   "cell_type": "code",
   "execution_count": null,
   "metadata": {},
   "outputs": [],
   "source": []
  }
 ],
 "metadata": {
  "kernelspec": {
   "display_name": "Python 3",
   "language": "python",
   "name": "python3"
  },
  "language_info": {
   "codemirror_mode": {
    "name": "ipython",
    "version": 3
   },
   "file_extension": ".py",
   "mimetype": "text/x-python",
   "name": "python",
   "nbconvert_exporter": "python",
   "pygments_lexer": "ipython3",
   "version": "3.8.3"
  }
 },
 "nbformat": 4,
 "nbformat_minor": 4
}
