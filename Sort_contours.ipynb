{
 "cells": [
  {
   "cell_type": "code",
   "execution_count": 1,
   "metadata": {},
   "outputs": [],
   "source": [
    "import cv2 \n",
    "import numpy as np"
   ]
  },
  {
   "cell_type": "code",
   "execution_count": 2,
   "metadata": {},
   "outputs": [],
   "source": [
    "def sort_cnts(cnts,mode=\"left2right\"):\n",
    "    reverse=\"False\"\n",
    "    i=0\n",
    "    \n",
    "    if mode==\"right2left\" or mode==\"bottom2top\":\n",
    "        reverse=True\n",
    "        if mode==\"left2right\" or mode==\"top2bottom\":\n",
    "            i=1\n",
    "            \n",
    "    bb0xes=[cv2.boundingRect(c) for c in cnts]\n",
    "    \n",
    "    (cnts,bboxes)=zip(*sorted(zip(cnts,bboxes),key=lambda b:b[1][i],reverse=reverse))\n",
    "    return (cnts,bboxes)"
   ]
  },
  {
   "cell_type": "code",
   "execution_count": 3,
   "metadata": {},
   "outputs": [],
   "source": [
    "def draw_cnts(img,c,i):\n",
    "    M=cv2.moments(c)\n",
    "    x=int(M[\"m10\"]/M[\"m00\"])\n",
    "    y=int(M[\"m01\"]/M[\"m00\"])\n",
    "    cv2.putText(img,str(i+1),(x-20,y),cv2.FONT_HERSHEY_SIMPLEX,0.5,(255,0,255),5,cv2.LINE_AA)\n",
    "    return img\n",
    "    "
   ]
  },
  {
   "cell_type": "code",
   "execution_count": 4,
   "metadata": {},
   "outputs": [],
   "source": [
    "img=cv2.imread('cont.jpg')\n",
    "\n",
    "\n",
    "edge=np.zeros(img.shape[:2],dtype=\"uint8\")\n",
    "for ch in cv2.split(img):\n",
    "    ch=cv2.medianBlur(ch,11)\n",
    "    ed=cv2.Canny(ch,50,200)\n",
    "    edge=cv2.bitwise_or(edge,ed)\n",
    "\n",
    "cnts,hier=cv2.findContours(edge,cv2.RETR_EXTERNAL,cv2.CHAIN_APPROX_SIMPLE)\n",
    "cnts=sorted(cnts,key=cv2.contourArea)[:5]\n",
    "\n",
    "orig=img.copy()\n",
    "\n",
    "for (i,c) in enumerate(cnts):\n",
    "    orig=draw_cnts(orig,c,i)\n",
    "\n",
    "(cnts,bboxes)=sort_contours(cnts,mode=\"top2bottom\")\n",
    "\n",
    "for (i,c) in enumerate (cnts):\n",
    "    draw_contour(img,c,i)\n",
    "\n",
    "cv2.imshow('sorted',img)\n",
    "cv2.waitKey(1)"
   ]
  },
  {
   "cell_type": "code",
   "execution_count": 5,
   "metadata": {},
   "outputs": [],
   "source": [
    "cv2.destroyAllWindows()"
   ]
  },
  {
   "cell_type": "code",
   "execution_count": null,
   "metadata": {},
   "outputs": [],
   "source": []
  }
 ],
 "metadata": {
  "kernelspec": {
   "display_name": "Python 3",
   "language": "python",
   "name": "python3"
  },
  "language_info": {
   "codemirror_mode": {
    "name": "ipython",
    "version": 3
   },
   "file_extension": ".py",
   "mimetype": "text/x-python",
   "name": "python",
   "nbconvert_exporter": "python",
   "pygments_lexer": "ipython3",
   "version": "3.8.3"
  }
 },
 "nbformat": 4,
 "nbformat_minor": 4
}
