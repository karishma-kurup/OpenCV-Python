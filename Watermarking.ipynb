{
 "cells": [
  {
   "cell_type": "code",
   "execution_count": 1,
   "metadata": {},
   "outputs": [],
   "source": [
    "import cv2\n",
    "import numpy as np"
   ]
  },
  {
   "cell_type": "code",
   "execution_count": 4,
   "metadata": {
    "scrolled": true
   },
   "outputs": [
    {
     "data": {
      "text/plain": [
       "-1"
      ]
     },
     "execution_count": 4,
     "metadata": {},
     "output_type": "execute_result"
    }
   ],
   "source": [
    "water_mark=cv2.imread('cup_png.png',-1)\n",
    "\n",
    "(h,w)=water_mark.shape[:2]\n",
    "(b,g,r,alpha)=cv2.split(water_mark)\n",
    "\n",
    "b=cv2.bitwise_and(b,b,mask=alpha)\n",
    "g=cv2.bitwise_and(g,g,mask=alpha)\n",
    "r=cv2.bitwise_and(r,r,mask=alpha)\n",
    "\n",
    "water_mark=cv2.merge([b,g,r,alpha])\n",
    "\n",
    "img=cv2.imread('landscape.jpg')\n",
    "(height,width)=img.shape[:2]\n",
    "img=np.dstack([img,np.ones((height,width),dtype='uint8')*255])\n",
    "\n",
    "overlay=np.zeros((height,width,4),dtype=\"uint8\")\n",
    "overlay[height-h-10:height-10,width-w-10:width-10]=water_mark\n",
    "\n",
    "final=img.copy()\n",
    "cv2.addWeighted(overlay,0.25,final,1.0,0,final)\n",
    "\n",
    "cv2.imshow('Out',final)\n",
    "cv2.waitKey(1)"
   ]
  },
  {
   "cell_type": "code",
   "execution_count": 5,
   "metadata": {},
   "outputs": [],
   "source": [
    "cv2.destroyAllWindows()"
   ]
  }
 ],
 "metadata": {
  "kernelspec": {
   "display_name": "Python 3",
   "language": "python",
   "name": "python3"
  },
  "language_info": {
   "codemirror_mode": {
    "name": "ipython",
    "version": 3
   },
   "file_extension": ".py",
   "mimetype": "text/x-python",
   "name": "python",
   "nbconvert_exporter": "python",
   "pygments_lexer": "ipython3",
   "version": "3.8.3"
  }
 },
 "nbformat": 4,
 "nbformat_minor": 4
}
