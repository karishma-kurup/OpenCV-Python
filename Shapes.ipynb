{
 "cells": [
  {
   "cell_type": "code",
   "execution_count": 1,
   "metadata": {},
   "outputs": [],
   "source": [
    "import cv2\n",
    "import numpy as np"
   ]
  },
  {
   "cell_type": "code",
   "execution_count": 2,
   "metadata": {
    "scrolled": false
   },
   "outputs": [],
   "source": [
    "img=cv2.imread(\"shapes.jpg\")\n",
    "img_cpy=img.copy()\n",
    "gray=cv2.cvtColor(img,cv2.COLOR_BGR2GRAY)\n",
    "blur=cv2.GaussianBlur(gray,(5,5),0)\n",
    "thresh=cv2.threshold(blur,60,255,cv2.THRESH_BINARY)[1]\n",
    "#thresh=cv2.Canny(img,50,120)"
   ]
  },
  {
   "cell_type": "code",
   "execution_count": 3,
   "metadata": {},
   "outputs": [],
   "source": [
    "cnt,hier=cv2.findContours(thresh,cv2.RETR_TREE,cv2.CHAIN_APPROX_NONE)\n"
   ]
  },
  {
   "cell_type": "code",
   "execution_count": 4,
   "metadata": {},
   "outputs": [],
   "source": [
    "for c in cnt:\n",
    "    approx=cv2.approxPolyDP(c,0.04*cv2.arcLength(c,True),True)\n",
    "    cv2.drawContours(img_cpy,approx,-1,(0,255,255),3)\n",
    "    x1=approx.ravel()[0]\n",
    "    y1=approx.ravel()[1]\n",
    "    \n",
    "    \n",
    "    if len(approx)==3:\n",
    "        cv2.putText(img_cpy,'Triangle',(x1,y1),cv2.FONT_HERSHEY_SIMPLEX,0.5,(0,0,255),1,cv2.LINE_AA)\n",
    "    elif len(approx)==4:\n",
    "        x1,y1,w,h=cv2.boundingRect(approx)\n",
    "        ap_rt=float(w)/h\n",
    "        if ap_rt>=0.95 and ap_rt<=1.05:\n",
    "            cv2.putText(img_cpy,'Square',(x1,y1),cv2.FONT_HERSHEY_SIMPLEX,0.5,(0,0,255),1,cv2.LINE_AA)\n",
    "        else:\n",
    "            cv2.putText(img_cpy,'Rectangle',(x1,y1),cv2.FONT_HERSHEY_SIMPLEX,0.5,(0,0,255),1,cv2.LINE_AA)\n",
    "    elif len(approx)==5:\n",
    "        cv2.putText(img_cpy,'Pentagon',(x1,y1),cv2.FONT_HERSHEY_SIMPLEX,0.5,(0,0,255),1,cv2.LINE_AA)\n",
    "    elif len(approx)==6:\n",
    "        cv2.putText(img_cpy,'Hexagon',(x1,y1),cv2.FONT_HERSHEY_SIMPLEX,0.5,(0,0,255),1,cv2.LINE_AA)\n",
    "    else:\n",
    "        cv2.putText(img_cpy,'Circle',(x1,y1),cv2.FONT_HERSHEY_SIMPLEX,0.5,(0,0,255),1,cv2.LINE_AA)"
   ]
  },
  {
   "cell_type": "code",
   "execution_count": 5,
   "metadata": {},
   "outputs": [
    {
     "data": {
      "text/plain": [
       "-1"
      ]
     },
     "execution_count": 5,
     "metadata": {},
     "output_type": "execute_result"
    }
   ],
   "source": [
    "cv2.imshow('image',img)\n",
    "cv2.imshow('thresh',thresh)\n",
    "cv2.imshow('out',img_cpy)\n",
    "cv2.waitKey(5000)"
   ]
  },
  {
   "cell_type": "code",
   "execution_count": 6,
   "metadata": {},
   "outputs": [],
   "source": [
    "cv2.destroyAllWindows()"
   ]
  },
  {
   "cell_type": "code",
   "execution_count": null,
   "metadata": {},
   "outputs": [],
   "source": []
  }
 ],
 "metadata": {
  "kernelspec": {
   "display_name": "Python 3",
   "language": "python",
   "name": "python3"
  },
  "language_info": {
   "codemirror_mode": {
    "name": "ipython",
    "version": 3
   },
   "file_extension": ".py",
   "mimetype": "text/x-python",
   "name": "python",
   "nbconvert_exporter": "python",
   "pygments_lexer": "ipython3",
   "version": "3.8.3"
  }
 },
 "nbformat": 4,
 "nbformat_minor": 4
}
