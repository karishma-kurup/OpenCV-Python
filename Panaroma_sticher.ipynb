{
 "cells": [
  {
   "cell_type": "code",
   "execution_count": 1,
   "metadata": {},
   "outputs": [],
   "source": [
    "import cv2\n",
    "import numpy as np"
   ]
  },
  {
   "cell_type": "code",
   "execution_count": 2,
   "metadata": {},
   "outputs": [],
   "source": [
    "img=[]\n",
    "img1=cv2.imread('pana1.jpg')\n",
    "#img1=cv2.resize(img1,(255,128))\n",
    "img2=cv2.imread('pana2.jpg')\n",
    "#img2=cv2.resize(img2,(255,128))\n",
    "img.append(img1)\n",
    "img.append(img2)\n",
    "\n",
    "panaroma=cv2.Stitcher_create()\n",
    "\n",
    "(stat,pana)=panaroma.stitch(img)\n",
    "\n",
    "if stat==0:\n",
    "    cv2.imshow('Out',pana)\n",
    "    cv2.waitKey(1)\n",
    "else:\n",
    "    print('Cannot Stitch probably not the same size')\n"
   ]
  },
  {
   "cell_type": "code",
   "execution_count": 3,
   "metadata": {},
   "outputs": [],
   "source": [
    "cv2.destroyAllWindows()"
   ]
  },
  {
   "cell_type": "code",
   "execution_count": 4,
   "metadata": {},
   "outputs": [
    {
     "data": {
      "text/plain": [
       "-1"
      ]
     },
     "execution_count": 4,
     "metadata": {},
     "output_type": "execute_result"
    }
   ],
   "source": [
    "pana=cv2.copyMakeBorder(pana,10,10,10,10,cv2.BORDER_CONSTANT,(0,0,0))\n",
    "\n",
    "gray=cv2.cvtColor(pana,cv2.COLOR_BGR2GRAY)\n",
    "thresh=cv2.threshold(gray,0,255,cv2.THRESH_BINARY)[1]\n",
    "\n",
    "cnts,hier=cv2.findContours(thresh.copy(),cv2.RETR_EXTERNAL,cv2.CHAIN_APPROX_SIMPLE)\n",
    "\n",
    "c=max(cnts,key=cv2.contourArea)\n",
    "mask=np.zeros(thresh.shape,dtype=\"uint8\")\n",
    "(x,y,w,h)=cv2.boundingRect(c)\n",
    "cv2.rectangle(mask,(x,y),(x+w,y+h),255,-1)\n",
    "minRect=mask.copy()\n",
    "\n",
    "sub=mask.copy()\n",
    "\n",
    "while cv2.countNonZero(sub)>0:\n",
    "    minRect=cv2.erode(minRect,None)\n",
    "    sub=cv2.subtract(minRect,thresh)\n",
    "    \n",
    "cnts,hier=cv2.findContours(minRect.copy(),cv2.RETR_EXTERNAL,cv2.CHAIN_APPROX_SIMPLE)\n",
    "\n",
    "c=max(cnts,key=cv2.contourArea)\n",
    "(x,y,w,h)=cv2.boundingRect(c)\n",
    "\n",
    "pana=pana[y:y+h,x:x+w]\n",
    "\n",
    "cv2.imshow('Out',pana)\n",
    "cv2.waitKey(1)"
   ]
  },
  {
   "cell_type": "code",
   "execution_count": 6,
   "metadata": {},
   "outputs": [],
   "source": [
    "cv2.destroyAllWindows()"
   ]
  },
  {
   "cell_type": "code",
   "execution_count": null,
   "metadata": {},
   "outputs": [],
   "source": []
  }
 ],
 "metadata": {
  "kernelspec": {
   "display_name": "Python 3",
   "language": "python",
   "name": "python3"
  },
  "language_info": {
   "codemirror_mode": {
    "name": "ipython",
    "version": 3
   },
   "file_extension": ".py",
   "mimetype": "text/x-python",
   "name": "python",
   "nbconvert_exporter": "python",
   "pygments_lexer": "ipython3",
   "version": "3.8.3"
  }
 },
 "nbformat": 4,
 "nbformat_minor": 4
}
