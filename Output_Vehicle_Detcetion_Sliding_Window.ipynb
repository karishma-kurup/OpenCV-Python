{
 "cells": [
  {
   "cell_type": "code",
   "execution_count": null,
   "metadata": {},
   "outputs": [],
   "source": [
    "import numpy as np\n",
    "import cv2\n",
    "from matplotlib import pyplot as plt\n",
    "from skimage import feature\n",
    "\n",
    "from sklearn.utils import shuffle\n",
    "from sklearn.model_selection import train_test_split\n",
    "from sklearn.svm import SVC\n",
    "from sklearn import metrics"
   ]
  },
  {
   "cell_type": "code",
   "execution_count": null,
   "metadata": {},
   "outputs": [],
   "source": [
    "car_img=cv2.imread('car2.png')\n",
    "car=cv2.cvtColor(car_img,cv2.COLOR_BGR2RGB)\n",
    "plt.imshow(car)\n",
    "plt.show()"
   ]
  },
  {
   "cell_type": "code",
   "execution_count": null,
   "metadata": {},
   "outputs": [],
   "source": [
    "not_car_img=cv2.imread('not_car2.png')\n",
    "not_car=cv2.cvtColor(not_car_img,cv2.COLOR_BGR2RGB)\n",
    "plt.imshow(not_car)\n",
    "plt.show()\n"
   ]
  },
  {
   "cell_type": "code",
   "execution_count": null,
   "metadata": {},
   "outputs": [],
   "source": [
    "hist_car=cv2.calcHist([car],[0,1,2],None,(32,32,32),[0,256,0,256,0,256])\n",
    "hist_car.flatten()\n",
    "\n",
    "hist_not_car=cv2.calcHist([not_car],[0,1,2],None,(32,32,32),[0,256,0,256,0,256])\n",
    "hist_not_car.flatten()\n",
    "\n",
    "\n",
    "img_car=cv2.resize(car,(32,32))\n",
    "img_car_spat_bin=img_car.ravel()\n",
    "\n",
    "img_not_car=cv2.resize(not_car,(32,32))\n",
    "img_not_car_spat_bin=img_not_car.ravel()\n",
    "\n",
    "\n",
    "out_car,hog_img_car=feature.hog(car,orientations=9,pixels_per_cell=(8,8),cells_per_block=(3,3),\n",
    "                        visualize=True,transform_sqrt=True,feature_vector=True,multichannel=None)\n",
    "\n",
    "out_not_car,hog_img_not_car=feature.hog(not_car,orientations=9,pixels_per_cell=(8,8),cells_per_block=(3,3),\n",
    "                        visualize=True,transform_sqrt=True,feature_vector=True,multichannel=None)\n"
   ]
  },
  {
   "cell_type": "code",
   "execution_count": null,
   "metadata": {},
   "outputs": [],
   "source": [
    "def extract_features(image):\n",
    "    out,hog_img=feature.hog(image,orientations=9,pixels_per_cell=(8,8),cells_per_block=(3,3),\n",
    "                        visualize=True,transform_sqrt=True,feature_vector=True,multichannel=None)\n",
    "    return out"
   ]
  },
  {
   "cell_type": "code",
   "execution_count": null,
   "metadata": {},
   "outputs": [],
   "source": [
    "import os\n",
    "import glob\n",
    "\n",
    "path_images=os.getcwd()\n",
    "\n",
    "data=path_images+'/Cars_dataset2'\n",
    "img_list=os.listdir(data)"
   ]
  },
  {
   "cell_type": "code",
   "execution_count": null,
   "metadata": {},
   "outputs": [],
   "source": [
    "features_car=[]\n",
    "for img in img_list:\n",
    "    input_img=cv2.imread(data+'/'+img)\n",
    "    in_im=cv2.resize(input_img,(64,64))\n",
    "    feature_hog=extract_features(in_im)\n",
    "    features_car.append(feature_hog)"
   ]
  },
  {
   "cell_type": "code",
   "execution_count": null,
   "metadata": {},
   "outputs": [],
   "source": [
    "data1=path_images+'/Not_Car_dataset2'\n",
    "img_list1=os.listdir(data1)"
   ]
  },
  {
   "cell_type": "code",
   "execution_count": null,
   "metadata": {},
   "outputs": [],
   "source": [
    "features_not_car=[]\n",
    "for img1 in img_list1:\n",
    "    input_img1=cv2.imread(data1+'/'+img1)\n",
    "    in_im1=cv2.resize(input_img1,(64,64))\n",
    "    feature_hog1=extract_features(in_im1)\n",
    "    features_not_car.append(feature_hog1)\n"
   ]
  },
  {
   "cell_type": "code",
   "execution_count": null,
   "metadata": {},
   "outputs": [],
   "source": [
    "X=np.vstack((features_car,features_not_car))\n",
    "\n",
    "y=np.hstack((np.ones(len(features_car)),np.zeros(len(features_not_car))))\n",
    "\n",
    "X,y=shuffle(X,y,random_state=2)\n",
    "\n",
    "X_train,X_test,y_train,y_test=train_test_split(X,y,test_size=0.2,random_state=3)"
   ]
  },
  {
   "cell_type": "code",
   "execution_count": null,
   "metadata": {},
   "outputs": [],
   "source": [
    "model=SVC(kernel='linear',random_state=1)\n",
    "model.fit(X_train,y_train)"
   ]
  },
  {
   "cell_type": "code",
   "execution_count": null,
   "metadata": {},
   "outputs": [],
   "source": [
    "y_pred=model.predict(X_test)"
   ]
  },
  {
   "cell_type": "code",
   "execution_count": null,
   "metadata": {},
   "outputs": [],
   "source": [
    "print(metrics.confusion_matrix(y_test,y_pred))"
   ]
  },
  {
   "cell_type": "code",
   "execution_count": null,
   "metadata": {},
   "outputs": [],
   "source": [
    "print(metrics.classification_report(y_test,y_pred))"
   ]
  },
  {
   "cell_type": "code",
   "execution_count": null,
   "metadata": {},
   "outputs": [],
   "source": [
    "input1_img=cv2.imread('car.png')\n",
    "in_im1=cv2.resize(input1_img,(64,64))\n",
    "feature_hog1=extract_features(in_im1)\n",
    "test1=np.array(feature_hog1).reshape(1,-1)\n",
    "\n",
    "in_im1=cv2.cvtColor(in_im1,cv2.COLOR_BGR2RGB)\n",
    "plt.imshow(in_im1)\n",
    "\n",
    "pred1=model.predict(test1)\n"
   ]
  },
  {
   "cell_type": "code",
   "execution_count": null,
   "metadata": {},
   "outputs": [],
   "source": [
    "input_img2=cv2.imread('not_car.png')\n",
    "in_im2=cv2.resize(input_img2,(64,64))\n",
    "feature_hog2=extract_features(in_im2)\n",
    "test2=np.array(feature_hog2).reshape(1,-1)\n",
    "\n",
    "in_im2=cv2.cvtColor(in_im2,cv2.COLOR_BGR2RGB)\n",
    "plt.imshow(in_im2)\n",
    "plt.show()\n",
    "\n",
    "pred2=model.predict(test2)\n"
   ]
  },
  {
   "cell_type": "code",
   "execution_count": null,
   "metadata": {},
   "outputs": [],
   "source": [
    "def img_resize(img,width=None,height=None,inter=cv2.INTER_AREA):\n",
    "    dim=None\n",
    "    (h,w)=img.shape[:2]\n",
    "    if height==None and width==None:\n",
    "        return img\n",
    "    if width==None:\n",
    "        ratio=height/float(h)\n",
    "        dim=(int(w*ratio),height)\n",
    "    else:\n",
    "        ratio=width/float(w)\n",
    "        dim=(width,int(h*ratio))\n",
    "    resized_img=cv2.resize(img,dim,interpolation=inter)\n",
    "    return resized_img\n"
   ]
  },
  {
   "cell_type": "code",
   "execution_count": null,
   "metadata": {},
   "outputs": [],
   "source": [
    "def pyramid(image, scale=1.5, minSize=(30, 30)):\n",
    "    yield image\n",
    "    while True: \n",
    "        w = int(image.shape[1] / scale)\n",
    "        image = img_resize(image, width=w)\n",
    "        if image.shape[0] < minSize[1] or image.shape[1] < minSize[0]:\n",
    "            break\n",
    "        yield image"
   ]
  },
  {
   "cell_type": "code",
   "execution_count": null,
   "metadata": {},
   "outputs": [],
   "source": [
    "def sliding_window(image, stepSize, windowSize):\n",
    "    for y in range(int((image.shape[0])/2), image.shape[0], stepSize):\n",
    "        for x in range(0, image.shape[1], stepSize):\n",
    "            yield (x, y, image[y:y + windowSize[1], x:x + windowSize[0]])"
   ]
  },
  {
   "cell_type": "code",
   "execution_count": null,
   "metadata": {},
   "outputs": [],
   "source": [
    "image = cv2.imread('test.jpg')\n",
    "(winW, winH) = (128, 128)\n",
    "img_copy=image.copy()"
   ]
  },
  {
   "cell_type": "code",
   "execution_count": null,
   "metadata": {},
   "outputs": [],
   "source": [
    "for resized in pyramid(image, scale=1.5):\n",
    "    for (x, y, window) in sliding_window(resized, stepSize=32, windowSize=(winW, winH)):\n",
    "        if window.shape[0] != winH or window.shape[1] != winW:\n",
    "            continue\n",
    "            \n",
    "        features=[]\n",
    "        im=cv2.resize(window,(64,64))\n",
    "        feature_test=extract_features(im)\n",
    "        features.append(feature_test)\n",
    "        \n",
    "        y_pred_test=model.predict(features)\n",
    "        if y_pred_test==1:\n",
    "            print(y_pred_test)\n",
    "            image1=image.copy()\n",
    "            cv2.rectangle(image1, (x, y), (x + winW, y + winH), (255, 255, 255), 9)\n",
    "            cv2.imshow('box',image1)\n",
    "            \n",
    "        slid_win_out = resized.copy()\n",
    "        cv2.rectangle(slid_win_out, (x, y), (x + winW, y + winH), (0, 255, 0), 2)\n",
    "        cv2.imshow(\"Sliding_Window\", slid_win_out)\n",
    "        cv2.waitKey(1)\n",
    "        time.sleep(0.025)\n",
    "\n",
    "cv2.destroyAllWindows()"
   ]
  }
 ],
 "metadata": {
  "kernelspec": {
   "display_name": "Python 3",
   "language": "python",
   "name": "python3"
  },
  "language_info": {
   "codemirror_mode": {
    "name": "ipython",
    "version": 3
   },
   "file_extension": ".py",
   "mimetype": "text/x-python",
   "name": "python",
   "nbconvert_exporter": "python",
   "pygments_lexer": "ipython3",
   "version": "3.8.3"
  }
 },
 "nbformat": 4,
 "nbformat_minor": 4
}
