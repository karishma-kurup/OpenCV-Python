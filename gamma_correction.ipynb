{
 "cells": [
  {
   "cell_type": "code",
   "execution_count": 1,
   "metadata": {},
   "outputs": [],
   "source": [
    "import cv2\n",
    "import numpy as np"
   ]
  },
  {
   "cell_type": "code",
   "execution_count": 7,
   "metadata": {},
   "outputs": [],
   "source": [
    "def adjust_gamma(img,gamma=1.0):\n",
    "    inv_gamma=1.0/gamma\n",
    "    table=np.array([((i/255.0)**inv_gamma)*255 for i in range(0,256)]).astype(\"uint8\")\n",
    "    return cv2.LUT(img,table)"
   ]
  },
  {
   "cell_type": "code",
   "execution_count": 15,
   "metadata": {},
   "outputs": [],
   "source": [
    "img=cv2.imread('clock.jpg')\n",
    "for gamma in np.arange(0.0,3.5,0.5):\n",
    "    if gamma==1:\n",
    "        continue\n",
    "    gamma=gamma if gamma>0 else 0.1\n",
    "    adjust=adjust_gamma(img,gamma=gamma)\n",
    "    cv2.putText(adjust,str(gamma),(10,30),cv2.FONT_HERSHEY_SIMPLEX,2.0,(0,0,0))\n",
    "    cv2.imshow('img',np.hstack([img,adjust]))\n",
    "    cv2.waitKey(1)"
   ]
  },
  {
   "cell_type": "code",
   "execution_count": 16,
   "metadata": {},
   "outputs": [],
   "source": [
    "cv2.destroyAllWindows()"
   ]
  },
  {
   "cell_type": "code",
   "execution_count": null,
   "metadata": {},
   "outputs": [],
   "source": []
  }
 ],
 "metadata": {
  "kernelspec": {
   "display_name": "Python 3",
   "language": "python",
   "name": "python3"
  },
  "language_info": {
   "codemirror_mode": {
    "name": "ipython",
    "version": 3
   },
   "file_extension": ".py",
   "mimetype": "text/x-python",
   "name": "python",
   "nbconvert_exporter": "python",
   "pygments_lexer": "ipython3",
   "version": "3.8.3"
  }
 },
 "nbformat": 4,
 "nbformat_minor": 4
}
