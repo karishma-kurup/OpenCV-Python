{
 "cells": [
  {
   "cell_type": "code",
   "execution_count": 1,
   "metadata": {},
   "outputs": [],
   "source": [
    "import cv2\n",
    "import numpy as np"
   ]
  },
  {
   "cell_type": "code",
   "execution_count": 2,
   "metadata": {},
   "outputs": [],
   "source": [
    "def img_resize(img,width=None,height=None,inter=cv2.INTER_AREA):\n",
    "    dim=None\n",
    "    (h,w)=img.shape[:2]\n",
    "    if width is None and height is None:\n",
    "        return\n",
    "    if width is None:\n",
    "        r=height/float(h)\n",
    "        dim=(int(w*r),height)\n",
    "    else:\n",
    "        r=width/float(w)\n",
    "        dim=(width,int(h*r))\n",
    "    return cv2.resize(img,dim,interpolation=inter)"
   ]
  },
  {
   "cell_type": "code",
   "execution_count": 4,
   "metadata": {},
   "outputs": [],
   "source": [
    "first_frame=None\n",
    "\n",
    "cap=cv2.VideoCapture(0)\n",
    "\n",
    "while True:\n",
    "    _,frame=cap.read()\n",
    "    frame=img_resize(frame,width=500)\n",
    "    gray=cv2.cvtColor(frame,cv2.COLOR_BGR2GRAY)\n",
    "    blur=cv2.GaussianBlur(gray,(21,21),0)\n",
    "    \n",
    "    if first_frame is None:\n",
    "        first_frame=gray\n",
    "        continue\n",
    "    \n",
    "    diff=cv2.absdiff(gray,first_frame)\n",
    "    thresh=cv2.threshold(diff,25,255,cv2.THRESH_BINARY)[1]\n",
    "    thresh=cv2.dilate(thresh,None,iterations=2)\n",
    "    cnts,hier=cv2.findContours(thresh.copy(),cv2.RETR_EXTERNAL,cv2.CHAIN_APPROX_SIMPLE)\n",
    "    \n",
    "    for c in cnts:\n",
    "        if cv2.contourArea(c)<10000:\n",
    "            continue\n",
    "        (x,y,w,h)=cv2.boundingRect(c)\n",
    "        cv2.rectangle(frame,(x,y),(x+w,y+h),(0,255,0),6)\n",
    "        \n",
    "    cv2.imshow('Difference',diff)\n",
    "    cv2.imshow('Thresh',thresh)\n",
    "    cv2.imshow(\"Out\",frame)\n",
    "    \n",
    "    if cv2.waitKey(1)&0xFF==ord('q'):\n",
    "        break\n",
    "        \n",
    "cap.release()\n",
    "cv2.destroyAllWindows()"
   ]
  },
  {
   "cell_type": "code",
   "execution_count": null,
   "metadata": {},
   "outputs": [],
   "source": []
  },
  {
   "cell_type": "code",
   "execution_count": null,
   "metadata": {},
   "outputs": [],
   "source": []
  }
 ],
 "metadata": {
  "kernelspec": {
   "display_name": "Python 3",
   "language": "python",
   "name": "python3"
  },
  "language_info": {
   "codemirror_mode": {
    "name": "ipython",
    "version": 3
   },
   "file_extension": ".py",
   "mimetype": "text/x-python",
   "name": "python",
   "nbconvert_exporter": "python",
   "pygments_lexer": "ipython3",
   "version": "3.8.3"
  }
 },
 "nbformat": 4,
 "nbformat_minor": 4
}
