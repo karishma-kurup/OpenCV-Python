{
 "cells": [
  {
   "cell_type": "code",
   "execution_count": 1,
   "metadata": {},
   "outputs": [],
   "source": [
    "import cv2\n",
    "import numpy as np\n",
    "from scipy.spatial import distance as dist\n",
    "from collections import OrderedDict"
   ]
  },
  {
   "cell_type": "code",
   "execution_count": 20,
   "metadata": {},
   "outputs": [],
   "source": [
    "def color_det(image,c):\n",
    "    colors=OrderedDict({\"red\":(255,0,0),\"green\":(0,255,0),\"blue\":(0,0,255)})\n",
    "    lab=np.zeros((len(colors),1,3),dtype=\"uint8\")\n",
    "    color_name=[]\n",
    "    for (i,(name,rgb)) in enumerate(colors.items()):\n",
    "        lab[i]=rgb\n",
    "        color_name.append(name)\n",
    "    lab=cv2.cvtColor(lab,cv2.COLOR_RGB2LAB)\n",
    "    \n",
    "    mask=np.zeros(img.shape[:2],dtype=\"uint8\")\n",
    "    cv2.drawContours(mask,[c],-1,255,-1)\n",
    "    mask=cv2.erode(mask,None,iterations=2)\n",
    "    mean=cv2.mean(image,mask=mask)[:3]\n",
    "    mindist=(np.inf,None)\n",
    "    \n",
    "    for (i,row) in enumerate(lab):\n",
    "        d=dist.euclidean(row[0],mean)\n",
    "        if d<mindist[0]:\n",
    "            mindist=(d,i)\n",
    "    return color_name[mindist[1]]"
   ]
  },
  {
   "cell_type": "code",
   "execution_count": 21,
   "metadata": {},
   "outputs": [],
   "source": [
    "def shape_det(c):\n",
    "    approx=cv2.approxPolyDP(c,0.04*cv2.arcLength(c,True),True)\n",
    "    x1=approx.ravel()[0]\n",
    "    y1=approx.ravel()[1]\n",
    "    if len(approx)==3:\n",
    "        return \"Triangle\"\n",
    "    elif len(approx)==4:\n",
    "        x1,y1,w,h=cv2.boundingRect(approx)\n",
    "        ap_rt=float(w)/h\n",
    "        if ap_rt>=0.95 and ap_rt<=1.05:\n",
    "            return \"Square\"\n",
    "        else:\n",
    "            return \"Rectangle\"\n",
    "    elif len(approx)==5:\n",
    "        return \"Pentagon\"\n",
    "    elif len(approx)==6:\n",
    "        return \"Hexagon\"\n",
    "    else:\n",
    "        return \"Circle\""
   ]
  },
  {
   "cell_type": "code",
   "execution_count": 22,
   "metadata": {},
   "outputs": [
    {
     "name": "stdout",
     "output_type": "stream",
     "text": [
      "(161.6420233463035, 71.18703877633168, 168.49993291292097)\n",
      "(128.75606522603738, 201.6090414954262, 178.90772902028368)\n",
      "(128.69149696320113, 201.55180421579135, 178.89853519113967)\n",
      "(161.627135348226, 71.1224047306176, 168.76537450722734)\n",
      "(127.93832853025937, 200.80547550432277, 178.19827089337176)\n",
      "(0.0, 0.0, 0.0)\n"
     ]
    },
    {
     "data": {
      "text/plain": [
       "-1"
      ]
     },
     "execution_count": 22,
     "metadata": {},
     "output_type": "execute_result"
    }
   ],
   "source": [
    "img=cv2.imread('shapes1.jpg')\n",
    "blur=cv2.GaussianBlur(img,(5,5),0)\n",
    "lab=cv2.cvtColor(blur,cv2.COLOR_BGR2LAB)\n",
    "gray=cv2.cvtColor(blur,cv2.COLOR_BGR2GRAY)\n",
    "thresh=cv2.threshold(gray,25,255,cv2.THRESH_BINARY)[1]\n",
    "\n",
    "cnts,hier=cv2.findContours(thresh.copy(),cv2.RETR_EXTERNAL,cv2.CHAIN_APPROX_SIMPLE)\n",
    "\n",
    "for c in cnts:\n",
    "    approx=cv2.approxPolyDP(c,0.04*cv2.arcLength(c,True),True)\n",
    "    x1=approx.ravel()[0]\n",
    "    y1=approx.ravel()[1]\n",
    "    shapes=shape_det(c)\n",
    "    colors=color_det(lab,c)\n",
    "    txt=\"{},{}\".format(colors,shapes)\n",
    "    cv2.putText(img,txt,(x1,y1),cv2.FONT_HERSHEY_SIMPLEX,0.5,(0,0,255),1,cv2.LINE_AA)\n",
    "    \n",
    "cv2.imshow('Output',img)\n",
    "cv2.waitKey(1)"
   ]
  },
  {
   "cell_type": "code",
   "execution_count": null,
   "metadata": {},
   "outputs": [],
   "source": [
    "cv2.destroyAllWindows()"
   ]
  }
 ],
 "metadata": {
  "kernelspec": {
   "display_name": "Python 3",
   "language": "python",
   "name": "python3"
  },
  "language_info": {
   "codemirror_mode": {
    "name": "ipython",
    "version": 3
   },
   "file_extension": ".py",
   "mimetype": "text/x-python",
   "name": "python",
   "nbconvert_exporter": "python",
   "pygments_lexer": "ipython3",
   "version": "3.8.3"
  }
 },
 "nbformat": 4,
 "nbformat_minor": 4
}
