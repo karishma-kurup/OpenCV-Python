{
 "cells": [
  {
   "cell_type": "code",
   "execution_count": 1,
   "metadata": {},
   "outputs": [],
   "source": [
    "import cv2\n",
    "import numpy as np\n",
    "from sklearn.metrics import pairwise"
   ]
  },
  {
   "cell_type": "code",
   "execution_count": 2,
   "metadata": {},
   "outputs": [],
   "source": [
    "def calibrate (gray,alpha):\n",
    "    global bg_img\n",
    "    if bg_img is None:\n",
    "        bg_img=gray.copy().astype(np.float64)\n",
    "        return\n",
    "    cv2.accumulateWeighted(gray,bg_img,alpha)"
   ]
  },
  {
   "cell_type": "code",
   "execution_count": 3,
   "metadata": {},
   "outputs": [],
   "source": [
    "def hand_cont(gray):\n",
    "    global bg_img\n",
    "    diff=cv2.absdiff(bg_img.astype(np.uint8),gray)\n",
    "    thresh=cv2.threshold(diff,25,255,cv2.THRESH_BINARY)[1]\n",
    "    cnts,hier=cv2.findContours(thresh.copy(),cv2.RETR_EXTERNAL,cv2.CHAIN_APPROX_SIMPLE)\n",
    "    if len(cnts)==0:\n",
    "        return\n",
    "    else:\n",
    "        cont=max(cnts,key=cv2.contourArea)\n",
    "        return (thresh,cont)"
   ]
  },
  {
   "cell_type": "code",
   "execution_count": 4,
   "metadata": {},
   "outputs": [],
   "source": [
    "def gest_count(thresh,cont):\n",
    "    con_hull=cv2.convexHull(cont)\n",
    "    ext_left=tuple(con_hull[con_hull[:,:,0].argmin()][0])\n",
    "    ext_right=tuple(con_hull[con_hull[:,:,0].argmax()][0])\n",
    "    ext_top=tuple(con_hull[con_hull[:,:,1].argmin()][0])\n",
    "    ext_bottom=tuple(con_hull[con_hull[:,:,1].argmax()][0])\n",
    "    cx=int((ext_left[0]+ext_right[0])/2)\n",
    "    cy=int((ext_top[1]+ext_bottom[1])/2)\n",
    "    cy+=(cy*0.15)\n",
    "    cy=int(cy)\n",
    "    dist=pairwise.euclidean_distances([(cx,cy)],Y=[ext_left,ext_right,ext_top,ext_bottom])[0]\n",
    "    max_dis=dist[dist.argmax()]\n",
    "    r=int(0.8*max_dis)\n",
    "    circum=2*np.pi*r\n",
    "    cir_roi=np.zeros(thresh.shape[:2],dtype='uint8')\n",
    "    cv2.circle(cir_roi,(cx,cy),r,255,1)\n",
    "    cir_roi=cv2.bitwise_and(thresh,thresh,mask=cir_roi)\n",
    "    cnts,hier=cv2.findContours(cir_roi,cv2.RETR_EXTERNAL,cv2.CHAIN_APPROX_NONE)\n",
    "    fin=0\n",
    "    for c in cnts:\n",
    "        (x,y,w,h)=cv2.boundingRect(c)\n",
    "        if ((cy+cy*0.25)>(y+h)) and ((circum*0.25)>c.shape[0]):\n",
    "            fin+=1\n",
    "    return fin\n",
    "\n",
    "    "
   ]
  },
  {
   "cell_type": "code",
   "execution_count": 5,
   "metadata": {},
   "outputs": [],
   "source": [
    "def img_resize(img,width=None,height=None,inter=cv2.INTER_AREA):\n",
    "    dim=None\n",
    "    (h,w)=img.shape[:2]\n",
    "    if width is None and height is None:\n",
    "        return\n",
    "    if width is None:\n",
    "        r=height/float(h)\n",
    "        dim=(int(w*r),height)\n",
    "    else:\n",
    "        r=width/float(w)\n",
    "        dim=(width,int(h*r))\n",
    "    return cv2.resize(img,dim,interpolation=inter)"
   ]
  },
  {
   "cell_type": "code",
   "execution_count": 6,
   "metadata": {},
   "outputs": [],
   "source": [
    "alpha=0.5\n",
    "bg_img=None\n",
    "t,r,b,l=[10,300,250,600]\n",
    "no_frames=0\n",
    "gesture=None\n",
    "val=[]\n",
    "cap=cv2.VideoCapture(0)\n",
    "while True:\n",
    "    ret,frame=cap.read()\n",
    "    frame=img_resize(frame,width=700)\n",
    "    frame=cv2.flip(frame,1)\n",
    "    clone=frame.copy()\n",
    "    (h,w)=frame.shape[:2]\n",
    "    roi=frame[t:b,r:l]\n",
    "    gray=cv2.cvtColor(roi,cv2.COLOR_RGB2GRAY)\n",
    "    gray=cv2.GaussianBlur(gray,(7,7),0)\n",
    "    if no_frames<20:\n",
    "        calibrate(gray,alpha)\n",
    "    else:\n",
    "        hand=hand_cont(gray)\n",
    "        if hand is not None:\n",
    "            (thresh,cont)=hand\n",
    "            cv2.drawContours(clone,[cont+(r,t)],-1,(0,255,0),3)\n",
    "            fin=gest_count(thresh,cont)\n",
    "            cv2.putText(clone,str(fin),(50,54),cv2.FONT_HERSHEY_SIMPLEX,0.5,(0,255,0),3,cv2.LINE_AA)\n",
    "    cv2.rectangle(clone,(l,t),(r,b),(0,255,0),3)\n",
    "    no_frames+=1\n",
    "    cv2.imshow('Output',clone)\n",
    "    if cv2.waitKey(1)&0xFF==ord('q'):\n",
    "        break\n",
    "cap.release()\n",
    "cv2.destroyAllWindows()"
   ]
  },
  {
   "cell_type": "code",
   "execution_count": null,
   "metadata": {},
   "outputs": [],
   "source": []
  }
 ],
 "metadata": {
  "kernelspec": {
   "display_name": "Python 3",
   "language": "python",
   "name": "python3"
  },
  "language_info": {
   "codemirror_mode": {
    "name": "ipython",
    "version": 3
   },
   "file_extension": ".py",
   "mimetype": "text/x-python",
   "name": "python",
   "nbconvert_exporter": "python",
   "pygments_lexer": "ipython3",
   "version": "3.8.3"
  }
 },
 "nbformat": 4,
 "nbformat_minor": 4
}
