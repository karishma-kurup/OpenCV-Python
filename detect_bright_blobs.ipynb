{
 "cells": [
  {
   "cell_type": "code",
   "execution_count": 3,
   "metadata": {},
   "outputs": [],
   "source": [
    "import cv2\n",
    "from skimage import measure\n",
    "import numpy as np"
   ]
  },
  {
   "cell_type": "code",
   "execution_count": 11,
   "metadata": {},
   "outputs": [
    {
     "name": "stderr",
     "output_type": "stream",
     "text": [
      "<ipython-input-11-a95430e120d3>:8: UserWarning: The argument 'neighbors' is deprecated and will be removed in scikit-image 0.18, use 'connectivity' instead. For neighbors=8, use connectivity=2\n",
      "  labels=measure.label(thresh,neighbors=8,background=0)\n"
     ]
    }
   ],
   "source": [
    "img=cv2.imread('multi_bright_regions.jpg')\n",
    "gray=cv2.cvtColor(img,cv2.COLOR_BGR2GRAY)\n",
    "blur=cv2.GaussianBlur(gray,(7,7),0)\n",
    "thresh=cv2.threshold(blur,150,255,cv2.THRESH_BINARY)[1]\n",
    "\n",
    "thresh=cv2.erode(thresh,None,iterations=2)\n",
    "thresh=cv2.dilate(thresh,None,iterations=1)\n",
    "labels=measure.label(thresh,neighbors=8,background=0)\n",
    "mask=np.zeros(thresh.shape,dtype=\"uint8\")\n",
    "for label in np.unique(labels):\n",
    "    if label==0:\n",
    "        continue\n",
    "    labelMask=np.zeros(thresh.shape,dtype=\"uint8\")\n",
    "    labelMask[labels==label]=255\n",
    "    numPixels=cv2.countNonZero(labelMask)\n",
    "    if numPixels>300:\n",
    "        mask=cv2.add(mask,labelMask)\n",
    "\n",
    "cnts,hier=cv2.findContours(mask,cv2.RETR_TREE,cv2.CHAIN_APPROX_NONE)"
   ]
  },
  {
   "cell_type": "code",
   "execution_count": 15,
   "metadata": {},
   "outputs": [],
   "source": [
    "for (i,c) in enumerate(cnts):\n",
    "    (x,y,w,h)=cv2.boundingRect(c)\n",
    "    (cen_x,cen_y),radius=cv2.minEnclosingCircle(c)\n",
    "    cv2.circle(img,(int(cen_x),int(cen_y)),int(radius),(0,255,0),3)"
   ]
  },
  {
   "cell_type": "code",
   "execution_count": 16,
   "metadata": {},
   "outputs": [
    {
     "data": {
      "text/plain": [
       "-1"
      ]
     },
     "execution_count": 16,
     "metadata": {},
     "output_type": "execute_result"
    }
   ],
   "source": [
    "cv2.imshow('img',img)\n",
    "cv2.waitKey(1)"
   ]
  },
  {
   "cell_type": "code",
   "execution_count": 17,
   "metadata": {},
   "outputs": [],
   "source": [
    "cv2.destroyAllWindows()"
   ]
  },
  {
   "cell_type": "code",
   "execution_count": null,
   "metadata": {},
   "outputs": [],
   "source": []
  }
 ],
 "metadata": {
  "kernelspec": {
   "display_name": "Python 3",
   "language": "python",
   "name": "python3"
  },
  "language_info": {
   "codemirror_mode": {
    "name": "ipython",
    "version": 3
   },
   "file_extension": ".py",
   "mimetype": "text/x-python",
   "name": "python",
   "nbconvert_exporter": "python",
   "pygments_lexer": "ipython3",
   "version": "3.8.3"
  }
 },
 "nbformat": 4,
 "nbformat_minor": 4
}
