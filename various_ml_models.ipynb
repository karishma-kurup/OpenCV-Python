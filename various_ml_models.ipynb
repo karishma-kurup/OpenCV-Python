{
 "cells": [
  {
   "cell_type": "markdown",
   "metadata": {},
   "source": [
    "# CLASSIFIERS TO CLASSIFY CATS, COWS, DOGS."
   ]
  },
  {
   "cell_type": "code",
   "execution_count": 1,
   "metadata": {},
   "outputs": [],
   "source": [
    "from sklearn.preprocessing import LabelEncoder\n",
    "from PIL import Image\n",
    "import numpy as np\n",
    "import os"
   ]
  },
  {
   "cell_type": "code",
   "execution_count": 2,
   "metadata": {},
   "outputs": [],
   "source": [
    "path=os.getcwd()\n",
    "data_path1=path+'/Dataset'\n",
    "img_list1=os.listdir(data_path1)"
   ]
  },
  {
   "cell_type": "code",
   "execution_count": 3,
   "metadata": {},
   "outputs": [],
   "source": [
    "def color_feat(img):\n",
    "    (r,g,b)=img.split()\n",
    "    feat=[np.mean(r),np.mean(g),np.mean(b),np.std(r),np.std(g),np.std(b)]\n",
    "    return feat"
   ]
  },
  {
   "cell_type": "code",
   "execution_count": 4,
   "metadata": {},
   "outputs": [],
   "source": [
    "data=[]\n",
    "labels=[]\n",
    "for img in img_list1:\n",
    "    im=Image.open(data_path1+'/'+img)\n",
    "    p=data_path1+'/'+img\n",
    "    feat=color_feat(im)\n",
    "    data.append(feat)\n",
    "    label=p.split(os.path.sep)[-1].split(\"_\")[0]\n",
    "    labels.append(label)"
   ]
  },
  {
   "cell_type": "code",
   "execution_count": 5,
   "metadata": {
    "scrolled": true
   },
   "outputs": [
    {
     "data": {
      "text/plain": [
       "['Untitled Folder/Dataset/cat',\n",
       " 'Untitled Folder/Dataset/cat',\n",
       " 'Untitled Folder/Dataset/cat',\n",
       " 'Untitled Folder/Dataset/cat',\n",
       " 'Untitled Folder/Dataset/cat',\n",
       " 'Untitled Folder/Dataset/cat',\n",
       " 'Untitled Folder/Dataset/cat',\n",
       " 'Untitled Folder/Dataset/cat',\n",
       " 'Untitled Folder/Dataset/cat',\n",
       " 'Untitled Folder/Dataset/cat',\n",
       " 'Untitled Folder/Dataset/cat',\n",
       " 'Untitled Folder/Dataset/cat',\n",
       " 'Untitled Folder/Dataset/cat',\n",
       " 'Untitled Folder/Dataset/cat',\n",
       " 'Untitled Folder/Dataset/cat',\n",
       " 'Untitled Folder/Dataset/cat',\n",
       " 'Untitled Folder/Dataset/cow',\n",
       " 'Untitled Folder/Dataset/cow',\n",
       " 'Untitled Folder/Dataset/cow',\n",
       " 'Untitled Folder/Dataset/cow',\n",
       " 'Untitled Folder/Dataset/cow',\n",
       " 'Untitled Folder/Dataset/cow',\n",
       " 'Untitled Folder/Dataset/cow',\n",
       " 'Untitled Folder/Dataset/cow',\n",
       " 'Untitled Folder/Dataset/cow',\n",
       " 'Untitled Folder/Dataset/cow',\n",
       " 'Untitled Folder/Dataset/cow',\n",
       " 'Untitled Folder/Dataset/cow',\n",
       " 'Untitled Folder/Dataset/cow',\n",
       " 'Untitled Folder/Dataset/cow',\n",
       " 'Untitled Folder/Dataset/cow',\n",
       " 'Untitled Folder/Dataset/cow',\n",
       " 'Untitled Folder/Dataset/dog',\n",
       " 'Untitled Folder/Dataset/dog',\n",
       " 'Untitled Folder/Dataset/dog',\n",
       " 'Untitled Folder/Dataset/dog',\n",
       " 'Untitled Folder/Dataset/dog',\n",
       " 'Untitled Folder/Dataset/dog',\n",
       " 'Untitled Folder/Dataset/dog',\n",
       " 'Untitled Folder/Dataset/dog',\n",
       " 'Untitled Folder/Dataset/dog',\n",
       " 'Untitled Folder/Dataset/dog',\n",
       " 'Untitled Folder/Dataset/dog',\n",
       " 'Untitled Folder/Dataset/dog',\n",
       " 'Untitled Folder/Dataset/dog',\n",
       " 'Untitled Folder/Dataset/dog',\n",
       " 'Untitled Folder/Dataset/dog',\n",
       " 'Untitled Folder/Dataset/dog']"
      ]
     },
     "execution_count": 5,
     "metadata": {},
     "output_type": "execute_result"
    }
   ],
   "source": [
    "labels"
   ]
  },
  {
   "cell_type": "code",
   "execution_count": 6,
   "metadata": {},
   "outputs": [],
   "source": [
    "le=LabelEncoder()"
   ]
  },
  {
   "cell_type": "code",
   "execution_count": 7,
   "metadata": {},
   "outputs": [],
   "source": [
    "labels=le.fit_transform(labels)"
   ]
  },
  {
   "cell_type": "code",
   "execution_count": 8,
   "metadata": {},
   "outputs": [
    {
     "data": {
      "text/plain": [
       "array([0, 0, 0, 0, 0, 0, 0, 0, 0, 0, 0, 0, 0, 0, 0, 0, 1, 1, 1, 1, 1, 1,\n",
       "       1, 1, 1, 1, 1, 1, 1, 1, 1, 1, 2, 2, 2, 2, 2, 2, 2, 2, 2, 2, 2, 2,\n",
       "       2, 2, 2, 2], dtype=int64)"
      ]
     },
     "execution_count": 8,
     "metadata": {},
     "output_type": "execute_result"
    }
   ],
   "source": [
    "labels"
   ]
  },
  {
   "cell_type": "code",
   "execution_count": 9,
   "metadata": {},
   "outputs": [],
   "source": [
    "from sklearn.model_selection import train_test_split\n",
    "from sklearn import metrics"
   ]
  },
  {
   "cell_type": "code",
   "execution_count": 10,
   "metadata": {},
   "outputs": [],
   "source": [
    "(train_x,test_x,train_y,test_y)=train_test_split(data,labels,test_size=0.25,random_state=1)"
   ]
  },
  {
   "cell_type": "code",
   "execution_count": 11,
   "metadata": {},
   "outputs": [],
   "source": [
    "from sklearn.naive_bayes import GaussianNB"
   ]
  },
  {
   "cell_type": "code",
   "execution_count": 12,
   "metadata": {},
   "outputs": [],
   "source": [
    "model=GaussianNB()"
   ]
  },
  {
   "cell_type": "code",
   "execution_count": 13,
   "metadata": {},
   "outputs": [
    {
     "name": "stdout",
     "output_type": "stream",
     "text": [
      "[[0 2 0]\n",
      " [1 4 0]\n",
      " [0 3 2]]\n",
      "              precision    recall  f1-score   support\n",
      "\n",
      "           0       0.00      0.00      0.00         2\n",
      "           1       0.44      0.80      0.57         5\n",
      "           2       1.00      0.40      0.57         5\n",
      "\n",
      "    accuracy                           0.50        12\n",
      "   macro avg       0.48      0.40      0.38        12\n",
      "weighted avg       0.60      0.50      0.48        12\n",
      "\n"
     ]
    }
   ],
   "source": [
    "model.fit(train_x,train_y)\n",
    "predictions=model.predict(test_x)\n",
    "print(metrics.confusion_matrix(test_y,predictions))\n",
    "print(metrics.classification_report(test_y,predictions))"
   ]
  },
  {
   "cell_type": "code",
   "execution_count": 14,
   "metadata": {},
   "outputs": [],
   "source": [
    "from sklearn.linear_model import LogisticRegression"
   ]
  },
  {
   "cell_type": "code",
   "execution_count": 15,
   "metadata": {},
   "outputs": [],
   "source": [
    "model=LogisticRegression(solver=\"lbfgs\",multi_class=\"auto\")"
   ]
  },
  {
   "cell_type": "code",
   "execution_count": 16,
   "metadata": {},
   "outputs": [
    {
     "name": "stdout",
     "output_type": "stream",
     "text": [
      "[[2 0 0]\n",
      " [2 3 0]\n",
      " [0 2 3]]\n",
      "              precision    recall  f1-score   support\n",
      "\n",
      "           0       0.50      1.00      0.67         2\n",
      "           1       0.60      0.60      0.60         5\n",
      "           2       1.00      0.60      0.75         5\n",
      "\n",
      "    accuracy                           0.67        12\n",
      "   macro avg       0.70      0.73      0.67        12\n",
      "weighted avg       0.75      0.67      0.67        12\n",
      "\n"
     ]
    },
    {
     "name": "stderr",
     "output_type": "stream",
     "text": [
      "C:\\Users\\user\\anaconda3\\lib\\site-packages\\sklearn\\linear_model\\_logistic.py:762: ConvergenceWarning: lbfgs failed to converge (status=1):\n",
      "STOP: TOTAL NO. of ITERATIONS REACHED LIMIT.\n",
      "\n",
      "Increase the number of iterations (max_iter) or scale the data as shown in:\n",
      "    https://scikit-learn.org/stable/modules/preprocessing.html\n",
      "Please also refer to the documentation for alternative solver options:\n",
      "    https://scikit-learn.org/stable/modules/linear_model.html#logistic-regression\n",
      "  n_iter_i = _check_optimize_result(\n"
     ]
    }
   ],
   "source": [
    "model.fit(train_x,train_y)\n",
    "predictions=model.predict(test_x)\n",
    "print(metrics.confusion_matrix(test_y,predictions))\n",
    "print(metrics.classification_report(test_y,predictions))"
   ]
  },
  {
   "cell_type": "code",
   "execution_count": 17,
   "metadata": {},
   "outputs": [],
   "source": [
    "from sklearn.tree import DecisionTreeClassifier"
   ]
  },
  {
   "cell_type": "code",
   "execution_count": 18,
   "metadata": {},
   "outputs": [],
   "source": [
    "model=DecisionTreeClassifier()"
   ]
  },
  {
   "cell_type": "code",
   "execution_count": 19,
   "metadata": {},
   "outputs": [
    {
     "name": "stdout",
     "output_type": "stream",
     "text": [
      "[[0 2 0]\n",
      " [1 2 2]\n",
      " [1 2 2]]\n",
      "              precision    recall  f1-score   support\n",
      "\n",
      "           0       0.00      0.00      0.00         2\n",
      "           1       0.33      0.40      0.36         5\n",
      "           2       0.50      0.40      0.44         5\n",
      "\n",
      "    accuracy                           0.33        12\n",
      "   macro avg       0.28      0.27      0.27        12\n",
      "weighted avg       0.35      0.33      0.34        12\n",
      "\n"
     ]
    }
   ],
   "source": [
    "model.fit(train_x,train_y)\n",
    "predictions=model.predict(test_x)\n",
    "print(metrics.confusion_matrix(test_y,predictions))\n",
    "print(metrics.classification_report(test_y,predictions))"
   ]
  },
  {
   "cell_type": "code",
   "execution_count": 20,
   "metadata": {},
   "outputs": [],
   "source": [
    "from sklearn.ensemble import RandomForestClassifier"
   ]
  },
  {
   "cell_type": "code",
   "execution_count": 21,
   "metadata": {},
   "outputs": [],
   "source": [
    "model=RandomForestClassifier(n_estimators=50)"
   ]
  },
  {
   "cell_type": "code",
   "execution_count": 22,
   "metadata": {},
   "outputs": [
    {
     "name": "stdout",
     "output_type": "stream",
     "text": [
      "[[0 2 0]\n",
      " [1 4 0]\n",
      " [1 2 2]]\n",
      "              precision    recall  f1-score   support\n",
      "\n",
      "           0       0.00      0.00      0.00         2\n",
      "           1       0.50      0.80      0.62         5\n",
      "           2       1.00      0.40      0.57         5\n",
      "\n",
      "    accuracy                           0.50        12\n",
      "   macro avg       0.50      0.40      0.40        12\n",
      "weighted avg       0.62      0.50      0.49        12\n",
      "\n"
     ]
    }
   ],
   "source": [
    "model.fit(train_x,train_y)\n",
    "predictions=model.predict(test_x)\n",
    "print(metrics.confusion_matrix(test_y,predictions))\n",
    "print(metrics.classification_report(test_y,predictions))"
   ]
  },
  {
   "cell_type": "code",
   "execution_count": 23,
   "metadata": {},
   "outputs": [],
   "source": [
    "from sklearn.neighbors import KNeighborsClassifier"
   ]
  },
  {
   "cell_type": "code",
   "execution_count": 24,
   "metadata": {},
   "outputs": [],
   "source": [
    "model=KNeighborsClassifier(n_neighbors=1)"
   ]
  },
  {
   "cell_type": "code",
   "execution_count": 25,
   "metadata": {},
   "outputs": [
    {
     "name": "stdout",
     "output_type": "stream",
     "text": [
      "[[1 1 0]\n",
      " [2 3 0]\n",
      " [1 1 3]]\n",
      "              precision    recall  f1-score   support\n",
      "\n",
      "           0       0.25      0.50      0.33         2\n",
      "           1       0.60      0.60      0.60         5\n",
      "           2       1.00      0.60      0.75         5\n",
      "\n",
      "    accuracy                           0.58        12\n",
      "   macro avg       0.62      0.57      0.56        12\n",
      "weighted avg       0.71      0.58      0.62        12\n",
      "\n"
     ]
    }
   ],
   "source": [
    "model.fit(train_x,train_y)\n",
    "predictions=model.predict(test_x)\n",
    "print(metrics.confusion_matrix(test_y,predictions))\n",
    "print(metrics.classification_report(test_y,predictions))"
   ]
  },
  {
   "cell_type": "code",
   "execution_count": 26,
   "metadata": {},
   "outputs": [],
   "source": [
    "from sklearn.neural_network import MLPClassifier"
   ]
  },
  {
   "cell_type": "code",
   "execution_count": 27,
   "metadata": {},
   "outputs": [],
   "source": [
    "model=MLPClassifier()"
   ]
  },
  {
   "cell_type": "code",
   "execution_count": 28,
   "metadata": {},
   "outputs": [
    {
     "name": "stdout",
     "output_type": "stream",
     "text": [
      "[[0 2 0]\n",
      " [0 5 0]\n",
      " [3 2 0]]\n",
      "              precision    recall  f1-score   support\n",
      "\n",
      "           0       0.00      0.00      0.00         2\n",
      "           1       0.56      1.00      0.71         5\n",
      "           2       0.00      0.00      0.00         5\n",
      "\n",
      "    accuracy                           0.42        12\n",
      "   macro avg       0.19      0.33      0.24        12\n",
      "weighted avg       0.23      0.42      0.30        12\n",
      "\n"
     ]
    },
    {
     "name": "stderr",
     "output_type": "stream",
     "text": [
      "C:\\Users\\user\\anaconda3\\lib\\site-packages\\sklearn\\metrics\\_classification.py:1221: UndefinedMetricWarning: Precision and F-score are ill-defined and being set to 0.0 in labels with no predicted samples. Use `zero_division` parameter to control this behavior.\n",
      "  _warn_prf(average, modifier, msg_start, len(result))\n"
     ]
    }
   ],
   "source": [
    "model.fit(train_x,train_y)\n",
    "predictions=model.predict(test_x)\n",
    "print(metrics.confusion_matrix(test_y,predictions))\n",
    "print(metrics.classification_report(test_y,predictions))"
   ]
  },
  {
   "cell_type": "code",
   "execution_count": null,
   "metadata": {},
   "outputs": [],
   "source": []
  }
 ],
 "metadata": {
  "kernelspec": {
   "display_name": "Python 3",
   "language": "python",
   "name": "python3"
  },
  "language_info": {
   "codemirror_mode": {
    "name": "ipython",
    "version": 3
   },
   "file_extension": ".py",
   "mimetype": "text/x-python",
   "name": "python",
   "nbconvert_exporter": "python",
   "pygments_lexer": "ipython3",
   "version": "3.8.3"
  }
 },
 "nbformat": 4,
 "nbformat_minor": 4
}
