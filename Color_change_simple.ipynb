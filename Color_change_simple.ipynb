{
 "cells": [
  {
   "cell_type": "code",
   "execution_count": 1,
   "metadata": {},
   "outputs": [],
   "source": [
    "import cv2\n",
    "import numpy as np"
   ]
  },
  {
   "cell_type": "code",
   "execution_count": 2,
   "metadata": {},
   "outputs": [],
   "source": [
    "def stats(img):\n",
    "    (l,a,b)=cv2.split(img)\n",
    "    (l_mean,l_std)=(l.mean(),l.std())\n",
    "    (a_mean,a_std)=(a.mean(),a.std())\n",
    "    (b_mean,b_std)=(b.mean(),b.std())\n",
    "    return (l_mean,l_std,a_mean,a_std,b_mean,b_std)"
   ]
  },
  {
   "cell_type": "code",
   "execution_count": 5,
   "metadata": {},
   "outputs": [],
   "source": [
    "def transform_color(src,tgt):\n",
    "    src=cv2.cvtColor(src,cv2.COLOR_BGR2LAB).astype('float32')\n",
    "    tgt=cv2.cvtColor(tgt,cv2.COLOR_BGR2LAB).astype('float32')\n",
    "    \n",
    "    (l_mean_src,l_std_src,a_mean_src,a_std_src,b_mean_src,b_std_src)=stats(src)\n",
    "    (l_mean_tgt,l_std_tgt,a_mean_tgt,a_std_tgt,b_mean_tgt,b_std_tgt)=stats(tgt)\n",
    "    \n",
    "    (l,a,b)=cv2.split(tgt)\n",
    "    \n",
    "    l-=l_mean_tgt\n",
    "    a-=a_mean_tgt\n",
    "    b-=b_mean_tgt\n",
    "    \n",
    "    l=(l_std_tgt/l_std_src)*l\n",
    "    a=(a_std_tgt/a_std_src)*a\n",
    "    b=(b_std_tgt/b_std_src)*b\n",
    "    \n",
    "    l+=l_mean_src\n",
    "    a+=a_mean_src\n",
    "    b+=b_mean_src\n",
    "    \n",
    "    l=np.clip(l,0,255)\n",
    "    a=np.clip(a,0,255)\n",
    "    b=np.clip(b,0,255)\n",
    "    \n",
    "    final=cv2.merge([l,a,b])\n",
    "    final=cv2.cvtColor(final.astype('uint8'),cv2.COLOR_LAB2BGR)\n",
    "    \n",
    "    return final"
   ]
  },
  {
   "cell_type": "code",
   "execution_count": 13,
   "metadata": {},
   "outputs": [
    {
     "data": {
      "text/plain": [
       "-1"
      ]
     },
     "execution_count": 13,
     "metadata": {},
     "output_type": "execute_result"
    }
   ],
   "source": [
    "source=cv2.imread('scene.jpg')\n",
    "target=cv2.imread('justpaper.jpg')\n",
    "final=transform_color(source,target)\n",
    "\n",
    "cv2.imshow('In',target)\n",
    "cv2.imshow('Out',final)\n",
    "cv2.waitKey(1)"
   ]
  },
  {
   "cell_type": "code",
   "execution_count": 14,
   "metadata": {},
   "outputs": [],
   "source": [
    "cv2.destroyAllWindows()"
   ]
  },
  {
   "cell_type": "code",
   "execution_count": null,
   "metadata": {},
   "outputs": [],
   "source": []
  }
 ],
 "metadata": {
  "kernelspec": {
   "display_name": "Python 3",
   "language": "python",
   "name": "python3"
  },
  "language_info": {
   "codemirror_mode": {
    "name": "ipython",
    "version": 3
   },
   "file_extension": ".py",
   "mimetype": "text/x-python",
   "name": "python",
   "nbconvert_exporter": "python",
   "pygments_lexer": "ipython3",
   "version": "3.8.3"
  }
 },
 "nbformat": 4,
 "nbformat_minor": 4
}
