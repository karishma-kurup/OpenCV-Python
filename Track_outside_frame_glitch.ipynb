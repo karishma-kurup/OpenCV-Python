{
 "cells": [
  {
   "cell_type": "code",
   "execution_count": null,
   "metadata": {},
   "outputs": [],
   "source": [
    "import cv2\n",
    "import numpy as np\n",
    "from collections import deque"
   ]
  },
  {
   "cell_type": "code",
   "execution_count": null,
   "metadata": {},
   "outputs": [],
   "source": [
    "def img_resize(img,width=None,height=None,inter=cv2.INTER_AREA):\n",
    "    dim=None\n",
    "    (h,w)=img.shape[:2]\n",
    "    if width is None and height is None:\n",
    "        return\n",
    "    if width is None:\n",
    "        r=height/float(h)\n",
    "        dim=(int(w*r),height)\n",
    "    else:\n",
    "        r=width/float(w)\n",
    "        dim=(width,int(h*r))\n",
    "    return cv2.resize(img,dim,interpolation=inter)"
   ]
  },
  {
   "cell_type": "code",
   "execution_count": null,
   "metadata": {},
   "outputs": [],
   "source": [
    "pts=deque(maxlen=64)\n",
    "cap=cv2.VideoCapture(0)\n",
    "while True:\n",
    "    ret,frame=cap.read()\n",
    "    frame=img_resize(frame,width=650)\n",
    "    frame=cv2.GaussianBlur(frame,(11,11),0)\n",
    "    hsv=cv2.cvtColor(frame,cv2.COLOR_BGR2HSV)\n",
    "    \n",
    "    HSVLOW = np.array([35,56,51])\n",
    "    HSVHIGH = np.array([92,204,140])\n",
    "    mask=cv2.inRange(hsv, HSVLOW, HSVHIGH)\n",
    "    \n",
    "    kernal=np.ones((3,3))\n",
    "    mask=cv2.dilate(mask,kernal,iterations=2)\n",
    "    mask=cv2.erode(mask,kernal,iterations=2)\n",
    "    \n",
    "    cnts,hier=cv2.findContours(mask.copy(),cv2.RETR_EXTERNAL,cv2.CHAIN_APPROX_NONE)\n",
    "    center=None\n",
    "    if len(cnts)>0:\n",
    "        c=max(cnts,key=cv2.contourArea)\n",
    "        ((x,y),r)=cv2.minEnclosingCircle(c)\n",
    "        M=cv2.moments(c)\n",
    "        center=(int(M['m10']/M['m00']),int(M['m01']/M['m00']))\n",
    "        if r>10:\n",
    "            cv2.circle(frame,(int(x),int(y)),int(r),(0,0,0),2)\n",
    "            cv2.circle(frame,center,5,(0,0,255),-1)\n",
    "        pts.appendleft(center)\n",
    "    for i in range(1,len(pts)):\n",
    "        if pts[i-1] is None or pts[i] is None:\n",
    "            continue\n",
    "        thickness=int((np.sqrt(64/float(i+1)))*2.5)\n",
    "        cv2.line(frame,pts[i-1],pts[i],(0,0,255),thickness)\n",
    "        cv2.imshow('frame',frame)\n",
    "        if cv2.waitKey(1)&0xFF==ord('q'):\n",
    "            break\n",
    "cap.release()\n",
    "cv2.destroyAllWindows()\n",
    "\n"
   ]
  },
  {
   "cell_type": "code",
   "execution_count": null,
   "metadata": {},
   "outputs": [],
   "source": [
    "cv2.destroyAllWindows()"
   ]
  },
  {
   "cell_type": "code",
   "execution_count": null,
   "metadata": {},
   "outputs": [],
   "source": []
  }
 ],
 "metadata": {
  "kernelspec": {
   "display_name": "Python 3",
   "language": "python",
   "name": "python3"
  },
  "language_info": {
   "codemirror_mode": {
    "name": "ipython",
    "version": 3
   },
   "file_extension": ".py",
   "mimetype": "text/x-python",
   "name": "python",
   "nbconvert_exporter": "python",
   "pygments_lexer": "ipython3",
   "version": "3.8.3"
  }
 },
 "nbformat": 4,
 "nbformat_minor": 4
}
